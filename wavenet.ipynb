{
 "cells": [
  {
   "cell_type": "code",
   "execution_count": 1,
   "id": "initial_id",
   "metadata": {
    "collapsed": true,
    "ExecuteTime": {
     "end_time": "2024-07-25T01:53:36.451145200Z",
     "start_time": "2024-07-25T01:53:28.275091800Z"
    }
   },
   "outputs": [],
   "source": [
    "import tensorflow as tf\n",
    "from tensorflow import keras\n",
    "import pandas as pd\n",
    "\n",
    "import numpy as np\n",
    "import matplotlib.pyplot as plt\n",
    "from sklearn import preprocessing"
   ]
  },
  {
   "cell_type": "code",
   "execution_count": 2,
   "outputs": [],
   "source": [
    "from keras import backend as K"
   ],
   "metadata": {
    "collapsed": false,
    "ExecuteTime": {
     "end_time": "2024-07-25T01:53:38.750999700Z",
     "start_time": "2024-07-25T01:53:38.684173400Z"
    }
   },
   "id": "c1900021dd52fc40"
  },
  {
   "cell_type": "code",
   "execution_count": 3,
   "outputs": [
    {
     "name": "stdout",
     "output_type": "stream",
     "text": [
      "C:\\Users\\freedom\\PycharmProjects\\industrial temperature\n"
     ]
    }
   ],
   "source": [
    "import os\n",
    "print(os.getcwd())"
   ],
   "metadata": {
    "collapsed": false,
    "ExecuteTime": {
     "end_time": "2024-07-25T01:53:40.414547900Z",
     "start_time": "2024-07-25T01:53:40.380637700Z"
    }
   },
   "id": "e6547cbc04e66add"
  },
  {
   "cell_type": "code",
   "execution_count": 4,
   "outputs": [],
   "source": [
    "train=pd.read_csv('train.csv')\n",
    "test=pd.read_csv('test.csv')"
   ],
   "metadata": {
    "collapsed": false,
    "ExecuteTime": {
     "end_time": "2024-07-25T01:53:41.878919200Z",
     "start_time": "2024-07-25T01:53:41.771207700Z"
    }
   },
   "id": "b0bab97fc9d8b579"
  },
  {
   "cell_type": "code",
   "execution_count": 5,
   "outputs": [],
   "source": [
    "df = pd.read_csv('train.csv')"
   ],
   "metadata": {
    "collapsed": false,
    "ExecuteTime": {
     "end_time": "2024-07-25T01:53:44.396215Z",
     "start_time": "2024-07-25T01:53:44.340364900Z"
    }
   },
   "id": "d024081ed395586"
  },
  {
   "cell_type": "code",
   "execution_count": 6,
   "outputs": [
    {
     "data": {
      "text/plain": "        Id        Date   Time  CO2_(dinning-room)  CO2_room  \\\n0        0  13/03/2012  11:45             216.560   221.920   \n1        1  13/03/2012  12:00             219.947   220.363   \n2        2  13/03/2012  12:15             219.403   218.933   \n3        3  13/03/2012  12:30             218.613   217.045   \n4        4  13/03/2012  12:45             217.714   216.080   \n...    ...         ...    ...                 ...       ...   \n2759  2759  11/04/2012  05:30             190.539   192.181   \n2760  2760  11/04/2012  05:45             190.421   193.067   \n2761  2761  11/04/2012  06:00             190.432   193.653   \n2762  2762  11/04/2012  06:15             191.531   193.387   \n2763  2763  11/04/2012  06:30             191.563   193.664   \n\n      Relative_humidity_(dinning-room)  Relative_humidity_room  \\\n0                              39.9125                 42.4150   \n1                              39.9267                 42.2453   \n2                              39.7720                 42.2267   \n3                              39.7760                 42.0987   \n4                              39.7757                 42.0686   \n...                                ...                     ...   \n2759                           41.3120                 41.6880   \n2760                           41.3173                 41.7200   \n2761                           41.3333                 41.7573   \n2762                           41.3093                 41.8107   \n2763                           41.2800                 41.8373   \n\n      Lighting_(dinning-room)  Lighting_room  Meteo_Rain  Meteo_Sun_dusk  \\\n0                     81.6650       113.5200         0.0         623.360   \n1                     81.7413       113.6050         0.0         623.211   \n2                     81.4240       113.6000         0.0         622.656   \n3                     81.5013       113.3440         0.0         622.571   \n4                     81.4657       113.0340         0.0         622.400   \n...                       ...            ...         ...             ...   \n2759                  11.4427        12.9400         0.0         392.603   \n2760                  11.6867        19.3200         0.0         613.120   \n2761                  19.5387        23.2427         0.0         613.803   \n2762                  20.9853        23.4400         0.0         615.403   \n2763                  20.5620        22.3080         0.0         616.725   \n\n      Meteo_Wind  Meteo_Sun_light_in_west_facade  \\\n0       1.426250                         9690.24   \n1       1.592000                        11022.00   \n2       1.891330                        13960.50   \n3       1.828000                        18511.20   \n4       2.360710                        26349.00   \n...          ...                             ...   \n2759    0.074667                            0.00   \n2760    0.000000                          465.92   \n2761    0.310667                         3454.98   \n2762    0.299333                         6795.26   \n2763    0.908000                         8952.83   \n\n      Meteo_Sun_light_in_east_facade  Meteo_Sun_light_in_south_facade  \\\n0                           12604.20                        95436.800   \n1                           10787.20                        95436.800   \n2                            9669.63                        95398.600   \n3                            9648.13                        95360.300   \n4                            9208.32                        95354.900   \n...                              ...                              ...   \n2759                            0.00                            0.000   \n2760                         2716.67                          523.264   \n2761                        16203.80                         3347.460   \n2762                        38303.10                         7110.660   \n2763                        51347.50                        10270.700   \n\n      Meteo_Sun_irradiance  Outdoor_relative_humidity_Sensor  Day_of_the_week  \\\n0                 758.8800                           48.3750              2.0   \n1                 762.0690                           47.8080              2.0   \n2                 766.2510                           47.4320              2.0   \n3                 766.0370                           47.0240              2.0   \n4                 762.7430                           45.4743              2.0   \n...                    ...                               ...              ...   \n2759               -3.4340                           49.2960              3.0   \n2760                3.8520                           50.0373              3.0   \n2761               26.8300                           50.0587              3.0   \n2762               66.9493                           49.8400              3.0   \n2763              112.2670                           50.2987              3.0   \n\n      Indoor_temperature_room  \n0                     17.8275  \n1                     18.1207  \n2                     18.4367  \n3                     18.7513  \n4                     19.0414  \n...                       ...  \n2759                  20.8187  \n2760                  20.7053  \n2761                  20.5827  \n2762                  20.5200  \n2763                  20.4400  \n\n[2764 rows x 19 columns]",
      "text/html": "<div>\n<style scoped>\n    .dataframe tbody tr th:only-of-type {\n        vertical-align: middle;\n    }\n\n    .dataframe tbody tr th {\n        vertical-align: top;\n    }\n\n    .dataframe thead th {\n        text-align: right;\n    }\n</style>\n<table border=\"1\" class=\"dataframe\">\n  <thead>\n    <tr style=\"text-align: right;\">\n      <th></th>\n      <th>Id</th>\n      <th>Date</th>\n      <th>Time</th>\n      <th>CO2_(dinning-room)</th>\n      <th>CO2_room</th>\n      <th>Relative_humidity_(dinning-room)</th>\n      <th>Relative_humidity_room</th>\n      <th>Lighting_(dinning-room)</th>\n      <th>Lighting_room</th>\n      <th>Meteo_Rain</th>\n      <th>Meteo_Sun_dusk</th>\n      <th>Meteo_Wind</th>\n      <th>Meteo_Sun_light_in_west_facade</th>\n      <th>Meteo_Sun_light_in_east_facade</th>\n      <th>Meteo_Sun_light_in_south_facade</th>\n      <th>Meteo_Sun_irradiance</th>\n      <th>Outdoor_relative_humidity_Sensor</th>\n      <th>Day_of_the_week</th>\n      <th>Indoor_temperature_room</th>\n    </tr>\n  </thead>\n  <tbody>\n    <tr>\n      <th>0</th>\n      <td>0</td>\n      <td>13/03/2012</td>\n      <td>11:45</td>\n      <td>216.560</td>\n      <td>221.920</td>\n      <td>39.9125</td>\n      <td>42.4150</td>\n      <td>81.6650</td>\n      <td>113.5200</td>\n      <td>0.0</td>\n      <td>623.360</td>\n      <td>1.426250</td>\n      <td>9690.24</td>\n      <td>12604.20</td>\n      <td>95436.800</td>\n      <td>758.8800</td>\n      <td>48.3750</td>\n      <td>2.0</td>\n      <td>17.8275</td>\n    </tr>\n    <tr>\n      <th>1</th>\n      <td>1</td>\n      <td>13/03/2012</td>\n      <td>12:00</td>\n      <td>219.947</td>\n      <td>220.363</td>\n      <td>39.9267</td>\n      <td>42.2453</td>\n      <td>81.7413</td>\n      <td>113.6050</td>\n      <td>0.0</td>\n      <td>623.211</td>\n      <td>1.592000</td>\n      <td>11022.00</td>\n      <td>10787.20</td>\n      <td>95436.800</td>\n      <td>762.0690</td>\n      <td>47.8080</td>\n      <td>2.0</td>\n      <td>18.1207</td>\n    </tr>\n    <tr>\n      <th>2</th>\n      <td>2</td>\n      <td>13/03/2012</td>\n      <td>12:15</td>\n      <td>219.403</td>\n      <td>218.933</td>\n      <td>39.7720</td>\n      <td>42.2267</td>\n      <td>81.4240</td>\n      <td>113.6000</td>\n      <td>0.0</td>\n      <td>622.656</td>\n      <td>1.891330</td>\n      <td>13960.50</td>\n      <td>9669.63</td>\n      <td>95398.600</td>\n      <td>766.2510</td>\n      <td>47.4320</td>\n      <td>2.0</td>\n      <td>18.4367</td>\n    </tr>\n    <tr>\n      <th>3</th>\n      <td>3</td>\n      <td>13/03/2012</td>\n      <td>12:30</td>\n      <td>218.613</td>\n      <td>217.045</td>\n      <td>39.7760</td>\n      <td>42.0987</td>\n      <td>81.5013</td>\n      <td>113.3440</td>\n      <td>0.0</td>\n      <td>622.571</td>\n      <td>1.828000</td>\n      <td>18511.20</td>\n      <td>9648.13</td>\n      <td>95360.300</td>\n      <td>766.0370</td>\n      <td>47.0240</td>\n      <td>2.0</td>\n      <td>18.7513</td>\n    </tr>\n    <tr>\n      <th>4</th>\n      <td>4</td>\n      <td>13/03/2012</td>\n      <td>12:45</td>\n      <td>217.714</td>\n      <td>216.080</td>\n      <td>39.7757</td>\n      <td>42.0686</td>\n      <td>81.4657</td>\n      <td>113.0340</td>\n      <td>0.0</td>\n      <td>622.400</td>\n      <td>2.360710</td>\n      <td>26349.00</td>\n      <td>9208.32</td>\n      <td>95354.900</td>\n      <td>762.7430</td>\n      <td>45.4743</td>\n      <td>2.0</td>\n      <td>19.0414</td>\n    </tr>\n    <tr>\n      <th>...</th>\n      <td>...</td>\n      <td>...</td>\n      <td>...</td>\n      <td>...</td>\n      <td>...</td>\n      <td>...</td>\n      <td>...</td>\n      <td>...</td>\n      <td>...</td>\n      <td>...</td>\n      <td>...</td>\n      <td>...</td>\n      <td>...</td>\n      <td>...</td>\n      <td>...</td>\n      <td>...</td>\n      <td>...</td>\n      <td>...</td>\n      <td>...</td>\n    </tr>\n    <tr>\n      <th>2759</th>\n      <td>2759</td>\n      <td>11/04/2012</td>\n      <td>05:30</td>\n      <td>190.539</td>\n      <td>192.181</td>\n      <td>41.3120</td>\n      <td>41.6880</td>\n      <td>11.4427</td>\n      <td>12.9400</td>\n      <td>0.0</td>\n      <td>392.603</td>\n      <td>0.074667</td>\n      <td>0.00</td>\n      <td>0.00</td>\n      <td>0.000</td>\n      <td>-3.4340</td>\n      <td>49.2960</td>\n      <td>3.0</td>\n      <td>20.8187</td>\n    </tr>\n    <tr>\n      <th>2760</th>\n      <td>2760</td>\n      <td>11/04/2012</td>\n      <td>05:45</td>\n      <td>190.421</td>\n      <td>193.067</td>\n      <td>41.3173</td>\n      <td>41.7200</td>\n      <td>11.6867</td>\n      <td>19.3200</td>\n      <td>0.0</td>\n      <td>613.120</td>\n      <td>0.000000</td>\n      <td>465.92</td>\n      <td>2716.67</td>\n      <td>523.264</td>\n      <td>3.8520</td>\n      <td>50.0373</td>\n      <td>3.0</td>\n      <td>20.7053</td>\n    </tr>\n    <tr>\n      <th>2761</th>\n      <td>2761</td>\n      <td>11/04/2012</td>\n      <td>06:00</td>\n      <td>190.432</td>\n      <td>193.653</td>\n      <td>41.3333</td>\n      <td>41.7573</td>\n      <td>19.5387</td>\n      <td>23.2427</td>\n      <td>0.0</td>\n      <td>613.803</td>\n      <td>0.310667</td>\n      <td>3454.98</td>\n      <td>16203.80</td>\n      <td>3347.460</td>\n      <td>26.8300</td>\n      <td>50.0587</td>\n      <td>3.0</td>\n      <td>20.5827</td>\n    </tr>\n    <tr>\n      <th>2762</th>\n      <td>2762</td>\n      <td>11/04/2012</td>\n      <td>06:15</td>\n      <td>191.531</td>\n      <td>193.387</td>\n      <td>41.3093</td>\n      <td>41.8107</td>\n      <td>20.9853</td>\n      <td>23.4400</td>\n      <td>0.0</td>\n      <td>615.403</td>\n      <td>0.299333</td>\n      <td>6795.26</td>\n      <td>38303.10</td>\n      <td>7110.660</td>\n      <td>66.9493</td>\n      <td>49.8400</td>\n      <td>3.0</td>\n      <td>20.5200</td>\n    </tr>\n    <tr>\n      <th>2763</th>\n      <td>2763</td>\n      <td>11/04/2012</td>\n      <td>06:30</td>\n      <td>191.563</td>\n      <td>193.664</td>\n      <td>41.2800</td>\n      <td>41.8373</td>\n      <td>20.5620</td>\n      <td>22.3080</td>\n      <td>0.0</td>\n      <td>616.725</td>\n      <td>0.908000</td>\n      <td>8952.83</td>\n      <td>51347.50</td>\n      <td>10270.700</td>\n      <td>112.2670</td>\n      <td>50.2987</td>\n      <td>3.0</td>\n      <td>20.4400</td>\n    </tr>\n  </tbody>\n</table>\n<p>2764 rows × 19 columns</p>\n</div>"
     },
     "execution_count": 6,
     "metadata": {},
     "output_type": "execute_result"
    }
   ],
   "source": [
    "train"
   ],
   "metadata": {
    "collapsed": false,
    "ExecuteTime": {
     "end_time": "2024-07-25T01:53:54.432819500Z",
     "start_time": "2024-07-25T01:53:54.359017Z"
    }
   },
   "id": "ed6245ba9430725a"
  },
  {
   "cell_type": "code",
   "execution_count": 14,
   "outputs": [
    {
     "data": {
      "text/plain": "'13/03/2012'"
     },
     "execution_count": 14,
     "metadata": {},
     "output_type": "execute_result"
    }
   ],
   "source": [
    "train['Date'][0]"
   ],
   "metadata": {
    "collapsed": false,
    "ExecuteTime": {
     "end_time": "2024-07-25T01:59:20.219311500Z",
     "start_time": "2024-07-25T01:59:20.180541300Z"
    }
   },
   "id": "d18667dd117b0965"
  },
  {
   "cell_type": "code",
   "execution_count": 16,
   "outputs": [
    {
     "name": "stdout",
     "output_type": "stream",
     "text": [
      "2012-03-13 11:45:00\n"
     ]
    }
   ],
   "source": [
    "from datetime import datetime, time\n",
    "date_str = train['Date'][0]\n",
    "time_str = train['Time'][0]\n",
    "\n",
    "# 解析日期部分\n",
    "date = datetime.strptime(date_str, '%d/%m/%Y').date()\n",
    "\n",
    "# 解析时间部分\n",
    "time = datetime.strptime(time_str, '%H:%M').time()\n",
    "\n",
    "# 将日期和时间合并成 datetime 对象\n",
    "combined_datetime = datetime.combine(date, time)\n",
    "\n",
    "print(combined_datetime)"
   ],
   "metadata": {
    "collapsed": false,
    "ExecuteTime": {
     "end_time": "2024-07-25T02:01:23.759944100Z",
     "start_time": "2024-07-25T02:01:23.707344400Z"
    }
   },
   "id": "148bc484b7a97327"
  },
  {
   "cell_type": "code",
   "execution_count": 24,
   "outputs": [],
   "source": [
    "from datetime import datetime, time, timedelta\n",
    "def strTotime(date_str, time_str):\n",
    "  # 解析日期部分\n",
    "  date = datetime.strptime(date_str, '%d/%m/%Y').date()\n",
    "\n",
    "  # 解析时间部分\n",
    "  time = datetime.strptime(time_str, '%H:%M').time()\n",
    "\n",
    "  # 将日期和时间合并成 datetime 对象\n",
    "  combined_datetime = datetime.combine(date, time)\n",
    "  return combined_datetime"
   ],
   "metadata": {
    "collapsed": false,
    "ExecuteTime": {
     "end_time": "2024-07-25T02:40:24.154555500Z",
     "start_time": "2024-07-25T02:40:24.136569Z"
    }
   },
   "id": "d75619fd0a2fac62"
  },
  {
   "cell_type": "code",
   "execution_count": 23,
   "outputs": [],
   "source": [
    "import json\n",
    "\n",
    "def dataTojson(df):\n",
    "  json_data = {}\n",
    "  for index, row in df.iterrows():\n",
    "    json_data[str(row['time'])] = str(row['temperature'])\n",
    "\n",
    "  # 将字典转换为 JSON 格式的字符串\n",
    "  json_data_str = json.dumps(json_data)\n",
    "\n",
    "  # 打印或返回 JSON 格式的数据\n",
    "  return json_data_str"
   ],
   "metadata": {
    "collapsed": false,
    "ExecuteTime": {
     "end_time": "2024-07-25T02:21:09.254270400Z",
     "start_time": "2024-07-25T02:21:09.227224700Z"
    }
   },
   "id": "e6ae39eab0585d67"
  },
  {
   "cell_type": "code",
   "execution_count": 22,
   "outputs": [
    {
     "data": {
      "text/plain": "'2012-03-13T11:45:00'"
     },
     "execution_count": 22,
     "metadata": {},
     "output_type": "execute_result"
    }
   ],
   "source": [
    "time = strTotime(train['Date'][0],train['Time'][0])"
   ],
   "metadata": {
    "collapsed": false,
    "ExecuteTime": {
     "end_time": "2024-07-25T02:18:51.609462900Z",
     "start_time": "2024-07-25T02:18:51.540644900Z"
    }
   },
   "id": "7fba5cd70813ba3d"
  },
  {
   "cell_type": "code",
   "execution_count": 25,
   "outputs": [
    {
     "name": "stdout",
     "output_type": "stream",
     "text": [
      "2024-07-25 10:40:00\n",
      "2024-07-25 10:39:00\n",
      "2024-07-25 10:38:00\n",
      "2024-07-25 10:37:00\n",
      "2024-07-25 10:36:00\n",
      "2024-07-25 10:35:00\n",
      "2024-07-25 10:34:00\n",
      "2024-07-25 10:33:00\n",
      "2024-07-25 10:32:00\n",
      "2024-07-25 10:31:00\n",
      "2024-07-25 10:30:00\n",
      "2024-07-25 10:29:00\n",
      "2024-07-25 10:28:00\n",
      "2024-07-25 10:27:00\n",
      "2024-07-25 10:26:00\n"
     ]
    }
   ],
   "source": [
    "current_time = datetime.now().replace(second=0, microsecond=0)\n",
    "for i in range(15):\n",
    "  time = current_time - timedelta(minutes=i)\n",
    "  print(time)"
   ],
   "metadata": {
    "collapsed": false,
    "ExecuteTime": {
     "end_time": "2024-07-25T02:40:46.014073500Z",
     "start_time": "2024-07-25T02:40:45.979125600Z"
    }
   },
   "id": "828e13a630d8b1f"
  },
  {
   "cell_type": "code",
   "execution_count": 28,
   "outputs": [
    {
     "name": "stdout",
     "output_type": "stream",
     "text": [
      "2024-07-25 11:00:00\n",
      "2024-07-25 11:15:00\n",
      "2024-07-25 11:30:00\n",
      "2024-07-25 11:45:00\n",
      "2024-07-25 12:00:00\n"
     ]
    }
   ],
   "source": [
    "current_time = datetime.now().replace(second=0, microsecond=0)\n",
    "for j in range(5):\n",
    "  new_time = current_time + timedelta(minutes = (j + 1) * 15)\n",
    "  print(new_time)"
   ],
   "metadata": {
    "collapsed": false,
    "ExecuteTime": {
     "end_time": "2024-07-25T02:45:32.865624100Z",
     "start_time": "2024-07-25T02:45:32.844679800Z"
    }
   },
   "id": "4c87e7a65a9893e6"
  },
  {
   "cell_type": "code",
   "execution_count": null,
   "outputs": [],
   "source": [
    "predictData = pd.DataFrame(columns=['time', 'temperature'])\n",
    "new_row = pd.DataFrame({'time': [new_time], 'temperature': [new_temperature]})\n",
    "predictData = pd.concat([predictData, new_row]).sort_values(by='time').reset_index(drop=True)"
   ],
   "metadata": {
    "collapsed": false
   },
   "id": "dd156b1a33f89d44"
  },
  {
   "cell_type": "code",
   "execution_count": 29,
   "outputs": [],
   "source": [
    "train.drop(['Id','Date','Time','Day_of_the_week','CO2_(dinning-room)','CO2_room','Relative_humidity_(dinning-room)','Lighting_(dinning-room)','Lighting_room','Meteo_Sun_dusk','Meteo_Sun_light_in_south_facade'],axis=1,inplace=True) "
   ],
   "metadata": {
    "collapsed": false,
    "ExecuteTime": {
     "end_time": "2024-07-25T02:48:31.950497700Z",
     "start_time": "2024-07-25T02:48:31.929552600Z"
    }
   },
   "id": "3e8caafbb7025a0d"
  },
  {
   "cell_type": "code",
   "execution_count": 124,
   "outputs": [],
   "source": [
    "train=pd.read_csv('train.csv')\n",
    "train.drop(['Id','Day_of_the_week','CO2_(dinning-room)','CO2_room','Relative_humidity_(dinning-room)','Lighting_(dinning-room)','Lighting_room','Meteo_Sun_dusk','Meteo_Sun_light_in_south_facade'],axis=1,inplace=True) "
   ],
   "metadata": {
    "collapsed": false,
    "ExecuteTime": {
     "end_time": "2024-07-25T07:57:25.632601200Z",
     "start_time": "2024-07-25T07:57:25.583465600Z"
    }
   },
   "id": "8f4f5809b713f9d8"
  },
  {
   "cell_type": "code",
   "execution_count": 125,
   "outputs": [],
   "source": [
    "newtrain = train[:480]"
   ],
   "metadata": {
    "collapsed": false,
    "ExecuteTime": {
     "end_time": "2024-07-25T07:57:26.305142Z",
     "start_time": "2024-07-25T07:57:26.272056800Z"
    }
   },
   "id": "e5386a59fe3162fb"
  },
  {
   "cell_type": "code",
   "execution_count": null,
   "outputs": [],
   "source": [
    "newtrain['dateTime'] = newtrain['Date'] + ' ' + newtrain['Time']\n",
    "newtrain['dateTime'] = pd.to_datetime(newtrain['dateTime'])\n",
    "newtrain = newtrain.drop(['Date', 'Time'], axis=1)\n",
    "newtrain"
   ],
   "metadata": {
    "collapsed": false
   },
   "id": "f645f7d663f6d570"
  },
  {
   "cell_type": "code",
   "execution_count": 129,
   "outputs": [
    {
     "data": {
      "text/plain": "               dateTime  Relative_humidity_room  Meteo_Rain  Meteo_Wind  \\\n0   2012-03-13 11:45:00                 42.4150         0.0     1.42625   \n1   2012-03-13 12:00:00                 42.2453         0.0     1.59200   \n2   2012-03-13 12:15:00                 42.2267         0.0     1.89133   \n3   2012-03-13 12:30:00                 42.0987         0.0     1.82800   \n4   2012-03-13 12:45:00                 42.0686         0.0     2.36071   \n..                  ...                     ...         ...         ...   \n475 2012-03-18 10:30:00                 41.0387         0.0     2.67933   \n476 2012-03-18 10:45:00                 40.8440         0.0     1.53733   \n477 2012-03-18 11:00:00                 40.4120         0.0     1.45267   \n478 2012-03-18 11:15:00                 40.0307         0.0     1.85467   \n479 2012-03-18 11:30:00                 39.8147         0.0     2.16667   \n\n     Meteo_Sun_light_in_west_facade  Meteo_Sun_light_in_east_facade  \\\n0                           9690.24                        12604.20   \n1                          11022.00                        10787.20   \n2                          13960.50                         9669.63   \n3                          18511.20                         9648.13   \n4                          26349.00                         9208.32   \n..                              ...                             ...   \n475                        10835.30                        46900.60   \n476                        10235.90                        34757.30   \n477                         9741.31                        24802.60   \n478                         9218.05                        18419.00   \n479                         9003.01                        15330.00   \n\n     Meteo_Sun_irradiance  Outdoor_relative_humidity_Sensor  \\\n0                 758.880                           48.3750   \n1                 762.069                           47.8080   \n2                 766.251                           47.4320   \n3                 766.037                           47.0240   \n4                 762.743                           45.4743   \n..                    ...                               ...   \n475               710.528                           43.9413   \n476               735.403                           43.1787   \n477               758.741                           42.5520   \n478               774.699                           41.9173   \n479               790.699                           41.2373   \n\n     Indoor_temperature_room  \n0                    17.8275  \n1                    18.1207  \n2                    18.4367  \n3                    18.7513  \n4                    19.0414  \n..                       ...  \n475                  19.6120  \n476                  19.8960  \n477                  20.1787  \n478                  20.4807  \n479                  20.7400  \n\n[480 rows x 9 columns]",
      "text/html": "<div>\n<style scoped>\n    .dataframe tbody tr th:only-of-type {\n        vertical-align: middle;\n    }\n\n    .dataframe tbody tr th {\n        vertical-align: top;\n    }\n\n    .dataframe thead th {\n        text-align: right;\n    }\n</style>\n<table border=\"1\" class=\"dataframe\">\n  <thead>\n    <tr style=\"text-align: right;\">\n      <th></th>\n      <th>dateTime</th>\n      <th>Relative_humidity_room</th>\n      <th>Meteo_Rain</th>\n      <th>Meteo_Wind</th>\n      <th>Meteo_Sun_light_in_west_facade</th>\n      <th>Meteo_Sun_light_in_east_facade</th>\n      <th>Meteo_Sun_irradiance</th>\n      <th>Outdoor_relative_humidity_Sensor</th>\n      <th>Indoor_temperature_room</th>\n    </tr>\n  </thead>\n  <tbody>\n    <tr>\n      <th>0</th>\n      <td>2012-03-13 11:45:00</td>\n      <td>42.4150</td>\n      <td>0.0</td>\n      <td>1.42625</td>\n      <td>9690.24</td>\n      <td>12604.20</td>\n      <td>758.880</td>\n      <td>48.3750</td>\n      <td>17.8275</td>\n    </tr>\n    <tr>\n      <th>1</th>\n      <td>2012-03-13 12:00:00</td>\n      <td>42.2453</td>\n      <td>0.0</td>\n      <td>1.59200</td>\n      <td>11022.00</td>\n      <td>10787.20</td>\n      <td>762.069</td>\n      <td>47.8080</td>\n      <td>18.1207</td>\n    </tr>\n    <tr>\n      <th>2</th>\n      <td>2012-03-13 12:15:00</td>\n      <td>42.2267</td>\n      <td>0.0</td>\n      <td>1.89133</td>\n      <td>13960.50</td>\n      <td>9669.63</td>\n      <td>766.251</td>\n      <td>47.4320</td>\n      <td>18.4367</td>\n    </tr>\n    <tr>\n      <th>3</th>\n      <td>2012-03-13 12:30:00</td>\n      <td>42.0987</td>\n      <td>0.0</td>\n      <td>1.82800</td>\n      <td>18511.20</td>\n      <td>9648.13</td>\n      <td>766.037</td>\n      <td>47.0240</td>\n      <td>18.7513</td>\n    </tr>\n    <tr>\n      <th>4</th>\n      <td>2012-03-13 12:45:00</td>\n      <td>42.0686</td>\n      <td>0.0</td>\n      <td>2.36071</td>\n      <td>26349.00</td>\n      <td>9208.32</td>\n      <td>762.743</td>\n      <td>45.4743</td>\n      <td>19.0414</td>\n    </tr>\n    <tr>\n      <th>...</th>\n      <td>...</td>\n      <td>...</td>\n      <td>...</td>\n      <td>...</td>\n      <td>...</td>\n      <td>...</td>\n      <td>...</td>\n      <td>...</td>\n      <td>...</td>\n    </tr>\n    <tr>\n      <th>475</th>\n      <td>2012-03-18 10:30:00</td>\n      <td>41.0387</td>\n      <td>0.0</td>\n      <td>2.67933</td>\n      <td>10835.30</td>\n      <td>46900.60</td>\n      <td>710.528</td>\n      <td>43.9413</td>\n      <td>19.6120</td>\n    </tr>\n    <tr>\n      <th>476</th>\n      <td>2012-03-18 10:45:00</td>\n      <td>40.8440</td>\n      <td>0.0</td>\n      <td>1.53733</td>\n      <td>10235.90</td>\n      <td>34757.30</td>\n      <td>735.403</td>\n      <td>43.1787</td>\n      <td>19.8960</td>\n    </tr>\n    <tr>\n      <th>477</th>\n      <td>2012-03-18 11:00:00</td>\n      <td>40.4120</td>\n      <td>0.0</td>\n      <td>1.45267</td>\n      <td>9741.31</td>\n      <td>24802.60</td>\n      <td>758.741</td>\n      <td>42.5520</td>\n      <td>20.1787</td>\n    </tr>\n    <tr>\n      <th>478</th>\n      <td>2012-03-18 11:15:00</td>\n      <td>40.0307</td>\n      <td>0.0</td>\n      <td>1.85467</td>\n      <td>9218.05</td>\n      <td>18419.00</td>\n      <td>774.699</td>\n      <td>41.9173</td>\n      <td>20.4807</td>\n    </tr>\n    <tr>\n      <th>479</th>\n      <td>2012-03-18 11:30:00</td>\n      <td>39.8147</td>\n      <td>0.0</td>\n      <td>2.16667</td>\n      <td>9003.01</td>\n      <td>15330.00</td>\n      <td>790.699</td>\n      <td>41.2373</td>\n      <td>20.7400</td>\n    </tr>\n  </tbody>\n</table>\n<p>480 rows × 9 columns</p>\n</div>"
     },
     "execution_count": 129,
     "metadata": {},
     "output_type": "execute_result"
    }
   ],
   "source": [
    "cols = newtrain.columns.tolist()  # 将列名转换为列表\n",
    "cols = ['dateTime'] + [col for col in cols if col != 'dateTime']  # 调整列的顺序，将 datetime 放在第一列\n",
    "newtrain = newtrain[cols]\n",
    "newtrain"
   ],
   "metadata": {
    "collapsed": false,
    "ExecuteTime": {
     "end_time": "2024-07-25T08:00:17.220387400Z",
     "start_time": "2024-07-25T08:00:17.167731800Z"
    }
   },
   "id": "1a0c80238fd3530a"
  },
  {
   "cell_type": "code",
   "execution_count": 140,
   "outputs": [],
   "source": [
    "for i in range(1, 16):  # 从1到15，共15组\n",
    "    start_index = (i - 1) * 32  # 每组的起始索引\n",
    "    group_datetime = datetime(2012, 3, 13, 11, 45, 0) + timedelta(minutes=i)  # 每组的初始时间加上 i 分钟\n",
    "    \n",
    "    # 调整每组32个数据的时间\n",
    "    for j in range(32):\n",
    "        index = start_index + j\n",
    "        newtrain.at[index, 'dateTime'] = group_datetime\n",
    "        group_datetime += timedelta(minutes=15)  # 每32个数据按顺序加15分钟"
   ],
   "metadata": {
    "collapsed": false,
    "ExecuteTime": {
     "end_time": "2024-07-25T08:10:44.202991Z",
     "start_time": "2024-07-25T08:10:44.129030300Z"
    }
   },
   "id": "53b3e21febdb7035"
  },
  {
   "cell_type": "code",
   "execution_count": 142,
   "outputs": [
    {
     "data": {
      "text/plain": "               dateTime  Relative_humidity_room  Meteo_Rain  Meteo_Wind  \\\n0   2012-03-13 11:46:00                 42.4150         0.0    1.426250   \n32  2012-03-13 11:47:00                 42.0027         0.0    0.661333   \n64  2012-03-13 11:48:00                 42.8507         0.0    0.041333   \n96  2012-03-13 11:49:00                 40.6240         0.0    2.028000   \n128 2012-03-13 11:50:00                 45.0560         0.0    0.564000   \n..                  ...                     ...         ...         ...   \n351 2012-03-13 19:41:00                 49.6507         0.0    0.861333   \n383 2012-03-13 19:42:00                 46.5013         0.0    1.958670   \n415 2012-03-13 19:43:00                 39.6427         0.0    0.166000   \n447 2012-03-13 19:44:00                 43.3120         0.0    1.248670   \n479 2012-03-13 19:45:00                 39.8147         0.0    2.166670   \n\n     Meteo_Sun_light_in_west_facade  Meteo_Sun_light_in_east_facade  \\\n0                           9690.24                         12604.2   \n32                             0.00                             0.0   \n64                             0.00                             0.0   \n96                          9777.15                         13444.4   \n128                            0.00                             0.0   \n..                              ...                             ...   \n351                            0.00                             0.0   \n383                         9504.77                         15587.3   \n415                            0.00                             0.0   \n447                            0.00                             0.0   \n479                         9003.01                         15330.0   \n\n     Meteo_Sun_irradiance  Outdoor_relative_humidity_Sensor  \\\n0               758.88000                           48.3750   \n32               -3.57733                           57.5387   \n64               -3.25067                           56.0453   \n96              763.52000                           52.4213   \n128              -3.51200                           62.4880   \n..                    ...                               ...   \n351              -3.18533                           65.8667   \n383             764.41600                           52.6800   \n415              -3.90400                           33.9613   \n447              -3.38133                           48.0827   \n479             790.69900                           41.2373   \n\n     Indoor_temperature_room  \n0                    17.8275  \n32                   22.5533  \n64                   17.1553  \n96                   21.4240  \n128                  21.1293  \n..                       ...  \n351                  16.2247  \n383                  18.4620  \n415                  22.3440  \n447                  19.4033  \n479                  20.7400  \n\n[480 rows x 9 columns]",
      "text/html": "<div>\n<style scoped>\n    .dataframe tbody tr th:only-of-type {\n        vertical-align: middle;\n    }\n\n    .dataframe tbody tr th {\n        vertical-align: top;\n    }\n\n    .dataframe thead th {\n        text-align: right;\n    }\n</style>\n<table border=\"1\" class=\"dataframe\">\n  <thead>\n    <tr style=\"text-align: right;\">\n      <th></th>\n      <th>dateTime</th>\n      <th>Relative_humidity_room</th>\n      <th>Meteo_Rain</th>\n      <th>Meteo_Wind</th>\n      <th>Meteo_Sun_light_in_west_facade</th>\n      <th>Meteo_Sun_light_in_east_facade</th>\n      <th>Meteo_Sun_irradiance</th>\n      <th>Outdoor_relative_humidity_Sensor</th>\n      <th>Indoor_temperature_room</th>\n    </tr>\n  </thead>\n  <tbody>\n    <tr>\n      <th>0</th>\n      <td>2012-03-13 11:46:00</td>\n      <td>42.4150</td>\n      <td>0.0</td>\n      <td>1.426250</td>\n      <td>9690.24</td>\n      <td>12604.2</td>\n      <td>758.88000</td>\n      <td>48.3750</td>\n      <td>17.8275</td>\n    </tr>\n    <tr>\n      <th>32</th>\n      <td>2012-03-13 11:47:00</td>\n      <td>42.0027</td>\n      <td>0.0</td>\n      <td>0.661333</td>\n      <td>0.00</td>\n      <td>0.0</td>\n      <td>-3.57733</td>\n      <td>57.5387</td>\n      <td>22.5533</td>\n    </tr>\n    <tr>\n      <th>64</th>\n      <td>2012-03-13 11:48:00</td>\n      <td>42.8507</td>\n      <td>0.0</td>\n      <td>0.041333</td>\n      <td>0.00</td>\n      <td>0.0</td>\n      <td>-3.25067</td>\n      <td>56.0453</td>\n      <td>17.1553</td>\n    </tr>\n    <tr>\n      <th>96</th>\n      <td>2012-03-13 11:49:00</td>\n      <td>40.6240</td>\n      <td>0.0</td>\n      <td>2.028000</td>\n      <td>9777.15</td>\n      <td>13444.4</td>\n      <td>763.52000</td>\n      <td>52.4213</td>\n      <td>21.4240</td>\n    </tr>\n    <tr>\n      <th>128</th>\n      <td>2012-03-13 11:50:00</td>\n      <td>45.0560</td>\n      <td>0.0</td>\n      <td>0.564000</td>\n      <td>0.00</td>\n      <td>0.0</td>\n      <td>-3.51200</td>\n      <td>62.4880</td>\n      <td>21.1293</td>\n    </tr>\n    <tr>\n      <th>...</th>\n      <td>...</td>\n      <td>...</td>\n      <td>...</td>\n      <td>...</td>\n      <td>...</td>\n      <td>...</td>\n      <td>...</td>\n      <td>...</td>\n      <td>...</td>\n    </tr>\n    <tr>\n      <th>351</th>\n      <td>2012-03-13 19:41:00</td>\n      <td>49.6507</td>\n      <td>0.0</td>\n      <td>0.861333</td>\n      <td>0.00</td>\n      <td>0.0</td>\n      <td>-3.18533</td>\n      <td>65.8667</td>\n      <td>16.2247</td>\n    </tr>\n    <tr>\n      <th>383</th>\n      <td>2012-03-13 19:42:00</td>\n      <td>46.5013</td>\n      <td>0.0</td>\n      <td>1.958670</td>\n      <td>9504.77</td>\n      <td>15587.3</td>\n      <td>764.41600</td>\n      <td>52.6800</td>\n      <td>18.4620</td>\n    </tr>\n    <tr>\n      <th>415</th>\n      <td>2012-03-13 19:43:00</td>\n      <td>39.6427</td>\n      <td>0.0</td>\n      <td>0.166000</td>\n      <td>0.00</td>\n      <td>0.0</td>\n      <td>-3.90400</td>\n      <td>33.9613</td>\n      <td>22.3440</td>\n    </tr>\n    <tr>\n      <th>447</th>\n      <td>2012-03-13 19:44:00</td>\n      <td>43.3120</td>\n      <td>0.0</td>\n      <td>1.248670</td>\n      <td>0.00</td>\n      <td>0.0</td>\n      <td>-3.38133</td>\n      <td>48.0827</td>\n      <td>19.4033</td>\n    </tr>\n    <tr>\n      <th>479</th>\n      <td>2012-03-13 19:45:00</td>\n      <td>39.8147</td>\n      <td>0.0</td>\n      <td>2.166670</td>\n      <td>9003.01</td>\n      <td>15330.0</td>\n      <td>790.69900</td>\n      <td>41.2373</td>\n      <td>20.7400</td>\n    </tr>\n  </tbody>\n</table>\n<p>480 rows × 9 columns</p>\n</div>"
     },
     "execution_count": 142,
     "metadata": {},
     "output_type": "execute_result"
    }
   ],
   "source": [
    "newtrain = newtrain.sort_values(by='dateTime')"
   ],
   "metadata": {
    "collapsed": false,
    "ExecuteTime": {
     "end_time": "2024-07-25T08:11:32.782852Z",
     "start_time": "2024-07-25T08:11:32.710049100Z"
    }
   },
   "id": "f5beb55806785dd0"
  },
  {
   "cell_type": "code",
   "execution_count": 143,
   "outputs": [
    {
     "data": {
      "text/plain": "               dateTime  Relative_humidity_room  Meteo_Rain  Meteo_Wind  \\\n0   2012-03-13 11:46:00                 42.4150         0.0    1.426250   \n1   2012-03-13 11:47:00                 42.0027         0.0    0.661333   \n2   2012-03-13 11:48:00                 42.8507         0.0    0.041333   \n3   2012-03-13 11:49:00                 40.6240         0.0    2.028000   \n4   2012-03-13 11:50:00                 45.0560         0.0    0.564000   \n..                  ...                     ...         ...         ...   \n475 2012-03-13 19:41:00                 49.6507         0.0    0.861333   \n476 2012-03-13 19:42:00                 46.5013         0.0    1.958670   \n477 2012-03-13 19:43:00                 39.6427         0.0    0.166000   \n478 2012-03-13 19:44:00                 43.3120         0.0    1.248670   \n479 2012-03-13 19:45:00                 39.8147         0.0    2.166670   \n\n     Meteo_Sun_light_in_west_facade  Meteo_Sun_light_in_east_facade  \\\n0                           9690.24                         12604.2   \n1                              0.00                             0.0   \n2                              0.00                             0.0   \n3                           9777.15                         13444.4   \n4                              0.00                             0.0   \n..                              ...                             ...   \n475                            0.00                             0.0   \n476                         9504.77                         15587.3   \n477                            0.00                             0.0   \n478                            0.00                             0.0   \n479                         9003.01                         15330.0   \n\n     Meteo_Sun_irradiance  Outdoor_relative_humidity_Sensor  \\\n0               758.88000                           48.3750   \n1                -3.57733                           57.5387   \n2                -3.25067                           56.0453   \n3               763.52000                           52.4213   \n4                -3.51200                           62.4880   \n..                    ...                               ...   \n475              -3.18533                           65.8667   \n476             764.41600                           52.6800   \n477              -3.90400                           33.9613   \n478              -3.38133                           48.0827   \n479             790.69900                           41.2373   \n\n     Indoor_temperature_room  \n0                    17.8275  \n1                    22.5533  \n2                    17.1553  \n3                    21.4240  \n4                    21.1293  \n..                       ...  \n475                  16.2247  \n476                  18.4620  \n477                  22.3440  \n478                  19.4033  \n479                  20.7400  \n\n[480 rows x 9 columns]",
      "text/html": "<div>\n<style scoped>\n    .dataframe tbody tr th:only-of-type {\n        vertical-align: middle;\n    }\n\n    .dataframe tbody tr th {\n        vertical-align: top;\n    }\n\n    .dataframe thead th {\n        text-align: right;\n    }\n</style>\n<table border=\"1\" class=\"dataframe\">\n  <thead>\n    <tr style=\"text-align: right;\">\n      <th></th>\n      <th>dateTime</th>\n      <th>Relative_humidity_room</th>\n      <th>Meteo_Rain</th>\n      <th>Meteo_Wind</th>\n      <th>Meteo_Sun_light_in_west_facade</th>\n      <th>Meteo_Sun_light_in_east_facade</th>\n      <th>Meteo_Sun_irradiance</th>\n      <th>Outdoor_relative_humidity_Sensor</th>\n      <th>Indoor_temperature_room</th>\n    </tr>\n  </thead>\n  <tbody>\n    <tr>\n      <th>0</th>\n      <td>2012-03-13 11:46:00</td>\n      <td>42.4150</td>\n      <td>0.0</td>\n      <td>1.426250</td>\n      <td>9690.24</td>\n      <td>12604.2</td>\n      <td>758.88000</td>\n      <td>48.3750</td>\n      <td>17.8275</td>\n    </tr>\n    <tr>\n      <th>1</th>\n      <td>2012-03-13 11:47:00</td>\n      <td>42.0027</td>\n      <td>0.0</td>\n      <td>0.661333</td>\n      <td>0.00</td>\n      <td>0.0</td>\n      <td>-3.57733</td>\n      <td>57.5387</td>\n      <td>22.5533</td>\n    </tr>\n    <tr>\n      <th>2</th>\n      <td>2012-03-13 11:48:00</td>\n      <td>42.8507</td>\n      <td>0.0</td>\n      <td>0.041333</td>\n      <td>0.00</td>\n      <td>0.0</td>\n      <td>-3.25067</td>\n      <td>56.0453</td>\n      <td>17.1553</td>\n    </tr>\n    <tr>\n      <th>3</th>\n      <td>2012-03-13 11:49:00</td>\n      <td>40.6240</td>\n      <td>0.0</td>\n      <td>2.028000</td>\n      <td>9777.15</td>\n      <td>13444.4</td>\n      <td>763.52000</td>\n      <td>52.4213</td>\n      <td>21.4240</td>\n    </tr>\n    <tr>\n      <th>4</th>\n      <td>2012-03-13 11:50:00</td>\n      <td>45.0560</td>\n      <td>0.0</td>\n      <td>0.564000</td>\n      <td>0.00</td>\n      <td>0.0</td>\n      <td>-3.51200</td>\n      <td>62.4880</td>\n      <td>21.1293</td>\n    </tr>\n    <tr>\n      <th>...</th>\n      <td>...</td>\n      <td>...</td>\n      <td>...</td>\n      <td>...</td>\n      <td>...</td>\n      <td>...</td>\n      <td>...</td>\n      <td>...</td>\n      <td>...</td>\n    </tr>\n    <tr>\n      <th>475</th>\n      <td>2012-03-13 19:41:00</td>\n      <td>49.6507</td>\n      <td>0.0</td>\n      <td>0.861333</td>\n      <td>0.00</td>\n      <td>0.0</td>\n      <td>-3.18533</td>\n      <td>65.8667</td>\n      <td>16.2247</td>\n    </tr>\n    <tr>\n      <th>476</th>\n      <td>2012-03-13 19:42:00</td>\n      <td>46.5013</td>\n      <td>0.0</td>\n      <td>1.958670</td>\n      <td>9504.77</td>\n      <td>15587.3</td>\n      <td>764.41600</td>\n      <td>52.6800</td>\n      <td>18.4620</td>\n    </tr>\n    <tr>\n      <th>477</th>\n      <td>2012-03-13 19:43:00</td>\n      <td>39.6427</td>\n      <td>0.0</td>\n      <td>0.166000</td>\n      <td>0.00</td>\n      <td>0.0</td>\n      <td>-3.90400</td>\n      <td>33.9613</td>\n      <td>22.3440</td>\n    </tr>\n    <tr>\n      <th>478</th>\n      <td>2012-03-13 19:44:00</td>\n      <td>43.3120</td>\n      <td>0.0</td>\n      <td>1.248670</td>\n      <td>0.00</td>\n      <td>0.0</td>\n      <td>-3.38133</td>\n      <td>48.0827</td>\n      <td>19.4033</td>\n    </tr>\n    <tr>\n      <th>479</th>\n      <td>2012-03-13 19:45:00</td>\n      <td>39.8147</td>\n      <td>0.0</td>\n      <td>2.166670</td>\n      <td>9003.01</td>\n      <td>15330.0</td>\n      <td>790.69900</td>\n      <td>41.2373</td>\n      <td>20.7400</td>\n    </tr>\n  </tbody>\n</table>\n<p>480 rows × 9 columns</p>\n</div>"
     },
     "execution_count": 143,
     "metadata": {},
     "output_type": "execute_result"
    }
   ],
   "source": [
    "newtrain = newtrain.reset_index(drop=True)"
   ],
   "metadata": {
    "collapsed": false,
    "ExecuteTime": {
     "end_time": "2024-07-25T08:13:22.593008800Z",
     "start_time": "2024-07-25T08:13:22.481064300Z"
    }
   },
   "id": "25cb030bcee7e810"
  },
  {
   "cell_type": "code",
   "execution_count": 145,
   "outputs": [],
   "source": [
    "newtrain['dateTime'] = newtrain['dateTime'].dt.strftime('%Y-%m-%d %H:%M:%S')\n",
    "newtrain.to_csv('newdata.csv', index=False)"
   ],
   "metadata": {
    "collapsed": false,
    "ExecuteTime": {
     "end_time": "2024-07-25T08:19:03.463995800Z",
     "start_time": "2024-07-25T08:19:03.379811Z"
    }
   },
   "id": "1ca8b8f994becc6c"
  },
  {
   "cell_type": "code",
   "execution_count": 148,
   "outputs": [
    {
     "data": {
      "text/plain": "'2012-03-13 11:46:00'"
     },
     "execution_count": 148,
     "metadata": {},
     "output_type": "execute_result"
    }
   ],
   "source": [
    "d = pd.read_csv('newdata.csv')\n",
    "d['dateTime'][0]"
   ],
   "metadata": {
    "collapsed": false,
    "ExecuteTime": {
     "end_time": "2024-07-25T08:21:19.890289500Z",
     "start_time": "2024-07-25T08:21:19.858375900Z"
    }
   },
   "id": "8164a9ceb37fee23"
  },
  {
   "cell_type": "code",
   "execution_count": 7,
   "outputs": [
    {
     "data": {
      "text/plain": "Relative_humidity_room              float64\nMeteo_Rain                          float64\nMeteo_Wind                          float64\nMeteo_Sun_light_in_west_facade      float64\nMeteo_Sun_light_in_east_facade      float64\nMeteo_Sun_irradiance                float64\nOutdoor_relative_humidity_Sensor    float64\nIndoor_temperature_room             float64\ndtype: object"
     },
     "execution_count": 7,
     "metadata": {},
     "output_type": "execute_result"
    }
   ],
   "source": [
    "train.dtypes"
   ],
   "metadata": {
    "collapsed": false,
    "ExecuteTime": {
     "end_time": "2024-07-17T03:32:14.962810800Z",
     "start_time": "2024-07-17T03:32:14.935028200Z"
    }
   },
   "id": "3293b4c58ce04f0f"
  },
  {
   "cell_type": "code",
   "execution_count": 8,
   "outputs": [
    {
     "data": {
      "text/plain": "Relative_humidity_room              float32\nMeteo_Rain                          float32\nMeteo_Wind                          float32\nMeteo_Sun_light_in_west_facade      float32\nMeteo_Sun_light_in_east_facade      float32\nMeteo_Sun_irradiance                float32\nOutdoor_relative_humidity_Sensor    float32\nIndoor_temperature_room             float32\ndtype: object"
     },
     "execution_count": 8,
     "metadata": {},
     "output_type": "execute_result"
    }
   ],
   "source": [
    "train = train.astype(dtype=\"float32\")\n",
    "train.dtypes"
   ],
   "metadata": {
    "collapsed": false,
    "ExecuteTime": {
     "end_time": "2024-07-17T03:33:19.442230900Z",
     "start_time": "2024-07-17T03:33:19.416517700Z"
    }
   },
   "id": "cad991c01d9d1f24"
  },
  {
   "cell_type": "code",
   "execution_count": 116,
   "outputs": [
    {
     "data": {
      "text/plain": "      Relative_humidity_room  Meteo_Rain  Meteo_Wind  \\\n0                    42.4150         0.0    1.426250   \n1                    42.2453         0.0    1.592000   \n2                    42.2267         0.0    1.891330   \n3                    42.0987         0.0    1.828000   \n4                    42.0686         0.0    2.360710   \n...                      ...         ...         ...   \n2759                 41.6880         0.0    0.074667   \n2760                 41.7200         0.0    0.000000   \n2761                 41.7573         0.0    0.310667   \n2762                 41.8107         0.0    0.299333   \n2763                 41.8373         0.0    0.908000   \n\n      Meteo_Sun_light_in_west_facade  Meteo_Sun_light_in_east_facade  \\\n0                            9690.24                        12604.20   \n1                           11022.00                        10787.20   \n2                           13960.50                         9669.63   \n3                           18511.20                         9648.13   \n4                           26349.00                         9208.32   \n...                              ...                             ...   \n2759                            0.00                            0.00   \n2760                          465.92                         2716.67   \n2761                         3454.98                        16203.80   \n2762                         6795.26                        38303.10   \n2763                         8952.83                        51347.50   \n\n      Meteo_Sun_irradiance  Outdoor_relative_humidity_Sensor  \\\n0                 758.8800                           48.3750   \n1                 762.0690                           47.8080   \n2                 766.2510                           47.4320   \n3                 766.0370                           47.0240   \n4                 762.7430                           45.4743   \n...                    ...                               ...   \n2759               -3.4340                           49.2960   \n2760                3.8520                           50.0373   \n2761               26.8300                           50.0587   \n2762               66.9493                           49.8400   \n2763              112.2670                           50.2987   \n\n      Indoor_temperature_room  \n0                     17.8275  \n1                     18.1207  \n2                     18.4367  \n3                     18.7513  \n4                     19.0414  \n...                       ...  \n2759                  20.8187  \n2760                  20.7053  \n2761                  20.5827  \n2762                  20.5200  \n2763                  20.4400  \n\n[2764 rows x 8 columns]",
      "text/html": "<div>\n<style scoped>\n    .dataframe tbody tr th:only-of-type {\n        vertical-align: middle;\n    }\n\n    .dataframe tbody tr th {\n        vertical-align: top;\n    }\n\n    .dataframe thead th {\n        text-align: right;\n    }\n</style>\n<table border=\"1\" class=\"dataframe\">\n  <thead>\n    <tr style=\"text-align: right;\">\n      <th></th>\n      <th>Relative_humidity_room</th>\n      <th>Meteo_Rain</th>\n      <th>Meteo_Wind</th>\n      <th>Meteo_Sun_light_in_west_facade</th>\n      <th>Meteo_Sun_light_in_east_facade</th>\n      <th>Meteo_Sun_irradiance</th>\n      <th>Outdoor_relative_humidity_Sensor</th>\n      <th>Indoor_temperature_room</th>\n    </tr>\n  </thead>\n  <tbody>\n    <tr>\n      <th>0</th>\n      <td>42.4150</td>\n      <td>0.0</td>\n      <td>1.426250</td>\n      <td>9690.24</td>\n      <td>12604.20</td>\n      <td>758.8800</td>\n      <td>48.3750</td>\n      <td>17.8275</td>\n    </tr>\n    <tr>\n      <th>1</th>\n      <td>42.2453</td>\n      <td>0.0</td>\n      <td>1.592000</td>\n      <td>11022.00</td>\n      <td>10787.20</td>\n      <td>762.0690</td>\n      <td>47.8080</td>\n      <td>18.1207</td>\n    </tr>\n    <tr>\n      <th>2</th>\n      <td>42.2267</td>\n      <td>0.0</td>\n      <td>1.891330</td>\n      <td>13960.50</td>\n      <td>9669.63</td>\n      <td>766.2510</td>\n      <td>47.4320</td>\n      <td>18.4367</td>\n    </tr>\n    <tr>\n      <th>3</th>\n      <td>42.0987</td>\n      <td>0.0</td>\n      <td>1.828000</td>\n      <td>18511.20</td>\n      <td>9648.13</td>\n      <td>766.0370</td>\n      <td>47.0240</td>\n      <td>18.7513</td>\n    </tr>\n    <tr>\n      <th>4</th>\n      <td>42.0686</td>\n      <td>0.0</td>\n      <td>2.360710</td>\n      <td>26349.00</td>\n      <td>9208.32</td>\n      <td>762.7430</td>\n      <td>45.4743</td>\n      <td>19.0414</td>\n    </tr>\n    <tr>\n      <th>...</th>\n      <td>...</td>\n      <td>...</td>\n      <td>...</td>\n      <td>...</td>\n      <td>...</td>\n      <td>...</td>\n      <td>...</td>\n      <td>...</td>\n    </tr>\n    <tr>\n      <th>2759</th>\n      <td>41.6880</td>\n      <td>0.0</td>\n      <td>0.074667</td>\n      <td>0.00</td>\n      <td>0.00</td>\n      <td>-3.4340</td>\n      <td>49.2960</td>\n      <td>20.8187</td>\n    </tr>\n    <tr>\n      <th>2760</th>\n      <td>41.7200</td>\n      <td>0.0</td>\n      <td>0.000000</td>\n      <td>465.92</td>\n      <td>2716.67</td>\n      <td>3.8520</td>\n      <td>50.0373</td>\n      <td>20.7053</td>\n    </tr>\n    <tr>\n      <th>2761</th>\n      <td>41.7573</td>\n      <td>0.0</td>\n      <td>0.310667</td>\n      <td>3454.98</td>\n      <td>16203.80</td>\n      <td>26.8300</td>\n      <td>50.0587</td>\n      <td>20.5827</td>\n    </tr>\n    <tr>\n      <th>2762</th>\n      <td>41.8107</td>\n      <td>0.0</td>\n      <td>0.299333</td>\n      <td>6795.26</td>\n      <td>38303.10</td>\n      <td>66.9493</td>\n      <td>49.8400</td>\n      <td>20.5200</td>\n    </tr>\n    <tr>\n      <th>2763</th>\n      <td>41.8373</td>\n      <td>0.0</td>\n      <td>0.908000</td>\n      <td>8952.83</td>\n      <td>51347.50</td>\n      <td>112.2670</td>\n      <td>50.2987</td>\n      <td>20.4400</td>\n    </tr>\n  </tbody>\n</table>\n<p>2764 rows × 8 columns</p>\n</div>"
     },
     "execution_count": 116,
     "metadata": {},
     "output_type": "execute_result"
    }
   ],
   "source": [
    "train"
   ],
   "metadata": {
    "collapsed": false,
    "ExecuteTime": {
     "end_time": "2024-07-25T07:03:41.981720400Z",
     "start_time": "2024-07-25T07:03:41.898185300Z"
    }
   },
   "id": "89c92e9635558a29"
  },
  {
   "cell_type": "code",
   "execution_count": 30,
   "outputs": [
    {
     "name": "stdout",
     "output_type": "stream",
     "text": [
      "train dataset size : 2211\n",
      "validation dataset size : 553\n"
     ]
    }
   ],
   "source": [
    "percentage = 0.8\n",
    "splitting_time = int(len(train) * percentage)\n",
    "\n",
    "train_x = np.array(train.values[:splitting_time],dtype=np.float32)\n",
    "val_x = np.array(train.values[splitting_time:],dtype=np.float32)\n",
    "\n",
    "print(\"train dataset size : %d\" %len(train_x))\n",
    "print(\"validation dataset size : %d\" %len(val_x))"
   ],
   "metadata": {
    "collapsed": false,
    "ExecuteTime": {
     "end_time": "2024-07-25T02:48:37.723111300Z",
     "start_time": "2024-07-25T02:48:37.699686800Z"
    }
   },
   "id": "a34d6a4bdfac6147"
  },
  {
   "cell_type": "code",
   "execution_count": 76,
   "outputs": [],
   "source": [
    "train_x = tf.convert_to_tensor(train_x)\n",
    "test_x = tf.convert_to_tensor(val_x)\n",
    "scaler = preprocessing.MinMaxScaler()\n",
    "scaler.fit(train_x)\n",
    "train_x_norm = scaler.transform(train_x)\n",
    "val_x_norm = scaler.transform(val_x)"
   ],
   "metadata": {
    "collapsed": false,
    "ExecuteTime": {
     "end_time": "2024-07-25T03:10:56.588770900Z",
     "start_time": "2024-07-25T03:10:56.560808100Z"
    }
   },
   "id": "88540228fc28505e"
  },
  {
   "cell_type": "code",
   "execution_count": null,
   "outputs": [],
   "source": [
    "train_x_norm"
   ],
   "metadata": {
    "collapsed": false
   },
   "id": "9fe4f4b334620234"
  },
  {
   "cell_type": "code",
   "execution_count": 89,
   "outputs": [],
   "source": [
    "scalerTem = preprocessing.MinMaxScaler()\n",
    "scalerTem.fit(tf.reshape(train_x[:, 7], shape=(-1, 1)))\n",
    "train_x_norm1 = scalerTem.transform(tf.reshape(train_x[:, 7], shape=(-1, 1)))"
   ],
   "metadata": {
    "collapsed": false,
    "ExecuteTime": {
     "end_time": "2024-07-25T03:29:03.116005100Z",
     "start_time": "2024-07-25T03:29:03.064144400Z"
    }
   },
   "id": "ae69eaa44c4df0f9"
  },
  {
   "cell_type": "code",
   "execution_count": 110,
   "outputs": [
    {
     "data": {
      "text/plain": "TensorShape([2211, 1])"
     },
     "execution_count": 110,
     "metadata": {},
     "output_type": "execute_result"
    }
   ],
   "source": [
    "tf.reshape(train_x[:, 7], shape=(-1, 1)).shape"
   ],
   "metadata": {
    "collapsed": false,
    "ExecuteTime": {
     "end_time": "2024-07-25T03:40:15.240471900Z",
     "start_time": "2024-07-25T03:40:15.155226400Z"
    }
   },
   "id": "947f2c7613676c3d"
  },
  {
   "cell_type": "code",
   "execution_count": 104,
   "outputs": [],
   "source": [
    "scalerOther = preprocessing.MinMaxScaler()\n",
    "scalerOther.fit(train_x[:, :7])\n",
    "train_x_norm1 = scalerOther.transform(train_x[:, :7])"
   ],
   "metadata": {
    "collapsed": false,
    "ExecuteTime": {
     "end_time": "2024-07-25T03:37:17.270665200Z",
     "start_time": "2024-07-25T03:37:17.168664100Z"
    }
   },
   "id": "89442329ab2c36b2"
  },
  {
   "cell_type": "code",
   "execution_count": null,
   "outputs": [],
   "source": [
    "train_x_norm1"
   ],
   "metadata": {
    "collapsed": false
   },
   "id": "e33331b4cc5d2001"
  },
  {
   "cell_type": "code",
   "execution_count": null,
   "outputs": [],
   "source": [
    "import mindspore.nn as nn\n",
    "import mindspore.ops as ops\n",
    "import mindspore as ms\n",
    "from mindspore import Tensor\n",
    "from mindspore import context\n",
    "import mindspore.numpy as mnp\n",
    "from mindspore.common.initializer import XavierUniform\n",
    "\n",
    "context.set_context(mode=context.GRAPH_MODE, device_target=\"CPU\")  # 设置MindSpore运行模式\n",
    "\n",
    "class WaveNetTimeSeries(nn.Cell):\n",
    "    def __init__(self, len_seq, len_out, dim_exo, nb_filters, dim_filters, dilation_depth, use_bias, res_l2, final_l2, batch_size):\n",
    "        super(WaveNetTimeSeries, self).__init__()\n",
    "        self.len_seq = len_seq\n",
    "        self.len_out = len_out\n",
    "        self.dim_exo = dim_exo\n",
    "        self.nb_filters = nb_filters\n",
    "        self.dim_filters = dim_filters\n",
    "        self.dilation_depth = dilation_depth\n",
    "        self.use_bias = use_bias\n",
    "        self.res_l2 = res_l2\n",
    "        self.final_l2 = final_l2\n",
    "        self.batch_size = batch_size\n",
    "        \n",
    "        # 定义卷积层\n",
    "        self.conv1d_exo = nn.Conv1d(in_channels=dim_exo, out_channels=nb_filters, kernel_size=dim_filters, has_bias=use_bias, dilation=1)\n",
    "        self.conv1d_target = nn.Conv1d(in_channels=1, out_channels=nb_filters, kernel_size=dim_filters, has_bias=use_bias, dilation=1)\n",
    "        \n",
    "        # 定义残差连接和跳跃连接\n",
    "        self.conv1x1_exo = nn.Conv1d(in_channels=nb_filters, out_channels=dim_exo, kernel_size=1, has_bias=False)\n",
    "        self.conv1x1_target = nn.Conv1d(in_channels=nb_filters, out_channels=1, kernel_size=1, has_bias=False)\n",
    "        \n",
    "        self.relu = nn.ReLU()\n",
    "        self.linear = nn.Dense(nb_filters, 1)\n",
    "\n",
    "    def construct(self, input_exo, input_target):\n",
    "        outputs = []\n",
    "        for t in range(self.len_out):\n",
    "            # 处理外部输入序列\n",
    "            out_exo = ops.pad(input_exo, ((0, 0), (self.dim_filters - 1, 0), (0, 0)))\n",
    "            out_exo = self.conv1d_exo(out_exo)\n",
    "            \n",
    "            # 处理目标序列\n",
    "            out_target = ops.pad(input_target, ((0, 0), (self.dim_filters - 1, 0), (0, 0)))\n",
    "            out_target = self.conv1d_target(out_target)\n",
    "            \n",
    "            skip_outputs = []\n",
    "            \n",
    "            # Dilated Convolution for exogenous and target series\n",
    "            z_exo = ops.pad(out_exo, ((0, 0), (2 * (self.dim_filters - 1), 0), (0, 0)))\n",
    "            z_exo = self.relu(self.conv1d_exo(z_exo))\n",
    "            skip_exo = self.conv1x1_exo(z_exo)\n",
    "            first_out_exo = self.conv1x1_exo(z_exo)\n",
    "\n",
    "            z_target = ops.pad(out_target, ((0, 0), (2 * (self.dim_filters - 1), 0), (0, 0)))\n",
    "            z_target = self.relu(self.conv1d_target(z_target))\n",
    "            skip_target = self.conv1x1_target(z_target)\n",
    "            first_out_target = self.conv1x1_target(z_target)\n",
    "            \n",
    "            # Skip connections and residual connections\n",
    "            skip_outputs.append(mnp.concat([skip_exo, skip_target], axis=1))\n",
    "            res_exo_out = input_exo + first_out_exo\n",
    "            res_target_out = input_target + first_out_target\n",
    "            \n",
    "            # Intermediate layers\n",
    "            out_concat = mnp.concat([res_exo_out, res_target_out], axis=1)\n",
    "            out = out_concat\n",
    "            for i in range(2, self.dilation_depth + 1):\n",
    "                z = ops.pad(out_concat, ((0, 0), (2**i * (self.dim_filters - 1), 0), (0, 0)))\n",
    "                z = self.relu(self.conv1d_exo(z))  # or self.conv1d_target(z) depending on which series\n",
    "                skip_x = self.conv1x1_exo(z)  # or self.conv1x1_target(z)\n",
    "                first_out_x = self.conv1x1_exo(z)  # or self.conv1x1_target(z)\n",
    "                out = out + first_out_x\n",
    "                skip_outputs.append(skip_x)\n",
    "            \n",
    "            out = sum(skip_outputs)\n",
    "            out = self.linear(out)\n",
    "            outputs.append(out[:, -1:, :])\n",
    "            \n",
    "            # Update inputs for the next time step\n",
    "            input_exo = mnp.concatenate([input_exo, out[:, -1:, :]], axis=1)\n",
    "            input_exo = input_exo[:, 1:, :]\n",
    "            \n",
    "            input_target = mnp.concatenate([input_target, out[:, -1:, :]], axis=1)\n",
    "            input_target = input_target[:, 1:, :]\n",
    "\n",
    "        outputs = mnp.stack(outputs, axis=1)\n",
    "        outputs = outputs.squeeze(-1)\n",
    "        return outputs"
   ],
   "metadata": {
    "collapsed": false
   },
   "id": "674bfc31f4ac0cea"
  },
  {
   "cell_type": "code",
   "execution_count": 33,
   "outputs": [],
   "source": [
    "def compute_len_seq(dilation_depth):\n",
    "  return (2 ** dilation_depth * 2)"
   ],
   "metadata": {
    "collapsed": false,
    "ExecuteTime": {
     "end_time": "2024-07-25T02:48:45.616386500Z",
     "start_time": "2024-07-25T02:48:45.589458300Z"
    }
   },
   "id": "a5a1767c6cd95b6c"
  },
  {
   "cell_type": "code",
   "execution_count": null,
   "outputs": [],
   "source": [
    "nb_filters = 96\n",
    "dim_filters = 2\n",
    "dilation_depth = 4     # len_seq = 32\n",
    "use_bias = False\n",
    "res_l2 = 0\n",
    "final_l2 = 0\n",
    "\n",
    "batch_size = 128\n",
    "len_out = 5\n",
    "dim_exo = 7\n",
    "\n",
    "len_seq = compute_len_seq(dilation_depth)\n",
    "print(len_seq)\n",
    "\n",
    "model = WaveNetTimeSeries(len_seq, len_out, dim_exo, nb_filters, dim_filters, dilation_depth, use_bias, res_l2, final_l2,batch_size=batch_size)\n",
    "model.summary()"
   ],
   "metadata": {
    "collapsed": false
   },
   "id": "da03d929c5878858"
  },
  {
   "cell_type": "code",
   "execution_count": 34,
   "outputs": [],
   "source": [
    "def prepare_dataset_XY(seriesx, seriesy, len_seq, len_out, batch_size,shift):\n",
    "  dataset_x = tf.data.Dataset.from_tensor_slices(seriesx)\n",
    "  dataset_x = dataset_x.window(len_seq+len_out, shift = shift, drop_remainder=True)\n",
    "  dataset_x = dataset_x.flat_map(lambda x: x.batch(len_seq+len_out))\n",
    "  dataset_x = dataset_x.map(lambda x: x[0:len_seq][:,:]) # shape:[[ ]]\n",
    "  dataset_x = dataset_x.batch(batch_size, drop_remainder=True).prefetch(1) # shape: [[[]]] (adding the batch_size)\n",
    "\n",
    "  # The target series\n",
    "  # (Y1,Y2,...,YT)\n",
    "  dataset_y = tf.data.Dataset.from_tensor_slices(seriesy)\n",
    "  dataset_y = dataset_y.window(len_seq+len_out, shift = shift, drop_remainder=True)\n",
    "  dataset_y = dataset_y.flat_map(lambda x: x.batch(len_seq+len_out))\n",
    "  dataset_y = dataset_y.map(lambda x: x[0:len_seq][:,:]) \n",
    "  dataset_y = dataset_y.batch(batch_size, drop_remainder=True).prefetch(1)\n",
    "  dataset_ypred = tf.data.Dataset.from_tensor_slices(seriesy)\n",
    "  dataset_ypred = dataset_ypred.window(len_seq+len_out+1, shift=shift, drop_remainder=True)\n",
    "  dataset_ypred = dataset_ypred.flat_map(lambda x: x.batch(len_seq+len_out+1))\n",
    "  dataset_ypred = dataset_ypred.map(lambda x: (x[0:len_seq+1][-len_out:,:]))\n",
    "  dataset_ypred = dataset_ypred.batch(batch_size, drop_remainder=True).prefetch(1)\n",
    "\n",
    "  dataset = tf.data.Dataset.zip((dataset_x, dataset_y))\n",
    "  dataset = tf.data.Dataset.zip((dataset, dataset_ypred))\n",
    "  return dataset"
   ],
   "metadata": {
    "collapsed": false,
    "ExecuteTime": {
     "end_time": "2024-07-25T02:48:53.960556800Z",
     "start_time": "2024-07-25T02:48:53.942870400Z"
    }
   },
   "id": "13df407950353014"
  },
  {
   "cell_type": "code",
   "execution_count": null,
   "outputs": [],
   "source": [
    "X1 = np.linspace(1,100,100) # 3 exogenous series\n",
    "X2 = np.linspace(101,200,100)\n",
    "X3 = np.linspace(201,300,100)\n",
    "Y = np.linspace(301,400,100) # target series\n",
    "\n",
    "X1 = tf.expand_dims(X1,-1)\n",
    "X2 = tf.expand_dims(X2,-1)\n",
    "X3 = tf.expand_dims(X3,-1)\n",
    "Y = tf.expand_dims(Y,-1)\n",
    "\n",
    "series_x = tf.concat([X1,X2,X3], axis=1)\n",
    "series_y = Y\n",
    "print(series_x.shape)\n",
    "print(series_y.shape)"
   ],
   "metadata": {
    "collapsed": false
   },
   "id": "ffa625e73a45cc13"
  },
  {
   "cell_type": "code",
   "execution_count": 36,
   "outputs": [],
   "source": [
    "len_seq = 10\n",
    "len_out = 1\n",
    "shift = 1\n",
    "batch_size = 1\n",
    "\n",
    "dataset_example = prepare_dataset_XY(series_x, series_y, len_seq, len_out, batch_size,shift)"
   ],
   "metadata": {
    "collapsed": false,
    "ExecuteTime": {
     "end_time": "2024-07-25T02:49:00.094298500Z",
     "start_time": "2024-07-25T02:48:59.767945900Z"
    }
   },
   "id": "d4dfcc01aaa63472"
  },
  {
   "cell_type": "code",
   "execution_count": 39,
   "outputs": [],
   "source": [
    "batch_size = 128\n",
    "len_out = 5\n",
    "len_seq = compute_len_seq(dilation_depth)\n",
    "shift=1\n",
    "\n",
    "# Dataset creation\n",
    "dataset = prepare_dataset_XY(train_x_norm[:,0:-1], train_x_norm[:,-1:], len_seq, len_out, batch_size, shift)\n",
    "dataset_val = prepare_dataset_XY(val_x_norm[:,0:-1], val_x_norm[:,-1:], len_seq, len_out, batch_size, shift)"
   ],
   "metadata": {
    "collapsed": false,
    "ExecuteTime": {
     "end_time": "2024-07-25T02:50:04.219998200Z",
     "start_time": "2024-07-25T02:50:04.081403Z"
    }
   },
   "id": "28fda527ee01f17f"
  },
  {
   "cell_type": "code",
   "execution_count": null,
   "outputs": [],
   "source": [
    "X1 = []\n",
    "X2 = []\n",
    "\n",
    "# Extracting x and y from the dataset\n",
    "x,y = tuple(zip(*dataset)) #x: 16x((BS,32,14),(BS,32,1)) with BS= batch_size\n",
    "                           #y: 16x(BS,5,1)\n",
    "for i in range(len(x)):\n",
    "  X1.append(x[i][0])\n",
    "  X2.append(x[i][1]) \n",
    "\n",
    "X1 = np.asarray(X1, dtype = np.float32) # (16,BS,32,14)\n",
    "X2 = np.asarray(X2, dtype = np.float32) # (16,BS,32,1)\n",
    "y =  np.asarray(y, dtype= np.float32)    # (16,BS,5,1)\n",
    "\n",
    "# Reshaping them\n",
    "X1 = np.reshape(X1,(X1.shape[0]*X1.shape[1], X1.shape[2], X1.shape[3])) # (16,BS,32,14) --> (16xBS,32,14)\n",
    "X2 = np.reshape(X2,(X2.shape[0]*X2.shape[1], X2.shape[2], X2.shape[3])) # (16,BS,32,1)  --> (16xBS,32,1)\n",
    "\n",
    "x_train = [X1,X2]\n",
    "y_train = np.reshape(y,(y.shape[0]*y.shape[1], y.shape[2], y.shape[3])) # (16,BS,5,1) --> (16xBS,5,1)"
   ],
   "metadata": {
    "collapsed": false
   },
   "id": "78d2cceaa9ceecad"
  },
  {
   "cell_type": "code",
   "execution_count": null,
   "outputs": [],
   "source": [
    "X1 =[]\n",
    "X2 =[]\n",
    "x,y = tuple(zip(*dataset_val)) \n",
    "        \n",
    "for i in range(len(x)):\n",
    "  X1.append(x[i][0])\n",
    "  X2.append(x[i][1])\n",
    "\n",
    "X1 = np.asarray(X1,dtype=np.float32)\n",
    "X2 = np.asarray(X2, dtype = np.float32)\n",
    "y = np.asarray(y, dtype= np.float32)\n",
    "\n",
    "# Reshaping them\n",
    "X1 = np.reshape(X1,(X1.shape[0]*X1.shape[1], X1.shape[2], X1.shape[3]))\n",
    "X2 = np.reshape(X2,(X2.shape[0]*X2.shape[1], X2.shape[2], X2.shape[3]))\n",
    "\n",
    "x_val = [X1,X2]\n",
    "y_val = np.reshape(y,(y.shape[0]*y.shape[1], y.shape[2], y.shape[3]))"
   ],
   "metadata": {
    "collapsed": false
   },
   "id": "241a322b535f7277"
  },
  {
   "cell_type": "code",
   "execution_count": null,
   "outputs": [],
   "source": [
    "import mindspore as ms\n",
    "import mindspore.nn as nn\n",
    "import mindspore.ops as ops\n",
    "import mindspore.dataset as ds\n",
    "from mindspore import context, Model, Tensor\n",
    "from mindspore.common.initializer import Normal\n",
    "from mindspore.train.callback import ModelCheckpoint, CheckpointConfig, LossMonitor\n",
    "from mindspore.train import EarlyStopping\n",
    "from mindspore.train.serialization import load_checkpoint, load_param_into_net, save_checkpoint\n",
    "\n",
    "\n",
    "context.set_context(mode=context.GRAPH_MODE, device_target=\"GPU\")\n",
    "\n",
    "max_periods = 1000\n",
    "\n",
    "\n",
    "model = WaveNetTimeSeries(len_seq, len_out, dim_exo, nb_filters, dim_filters, dilation_depth, use_bias, res_l2, final_l2, batch_size=int(batch_size))\n",
    "\n",
    "x_train_0 = np.array(x_train[0], dtype=np.float32)\n",
    "x_train_1 = np.array(x_train[1], dtype=np.float32)\n",
    "y_train = np.array(y_train, dtype=np.float32)\n",
    "train_data = [(x_train_0[i], x_train_1[i], y_train[i]) for i in range(len(y_train))]\n",
    "def data_generator(data):\n",
    "    for item in data:\n",
    "        yield item\n",
    "\n",
    "\n",
    "train_dataset = ds.GeneratorDataset(source=data_generator(train_data), \n",
    "                                    column_names=[\"x_train_0\", \"x_train_1\", \"y_train\"],\n",
    "                                    shuffle=True)\n",
    "\n",
    "\n",
    "train_dataset = train_dataset.batch(batch_size=batch_size)\n",
    "\n",
    "lr_schedule = nn.exponential_decay_lr(learning_rate=0.005, decay_rate=0.01, decay_steps=50, is_stair=False)\n",
    "\n",
    "\n",
    "opt = nn.Adam(params=model.trainable_params(), learning_rate=lr_schedule)\n",
    "\n",
    "\n",
    "loss_fn = nn.MSELoss()\n",
    "\n",
    "\n",
    "train_model = Model(network=model, loss_fn=loss_fn, optimizer=opt, metrics={'mse': nn.Metric()})\n",
    "\n",
    "\n",
    "config_ckpt = CheckpointConfig(save_checkpoint_steps=1, keep_checkpoint_max=5)\n",
    "ckpt_cb = ModelCheckpoint(prefix=\"weights_train\", directory=\"./\", config=config_ckpt)\n",
    "\n",
    "early_stopping_cb = EarlyStopping(monitor='loss', patience=200)\n",
    "\n",
    "train_model.train(max_periods, train_dataset, \n",
    "                  callbacks=[ckpt_cb, early_stopping_cb, LossMonitor()], dataset_sink_mode=False)"
   ],
   "metadata": {
    "collapsed": false
   },
   "id": "c1b01313d23d1cb2"
  },
  {
   "cell_type": "code",
   "execution_count": null,
   "outputs": [],
   "source": [],
   "metadata": {
    "collapsed": false
   },
   "id": "2abbd7d0e10cd425"
  }
 ],
 "metadata": {
  "kernelspec": {
   "display_name": "Python 3",
   "language": "python",
   "name": "python3"
  },
  "language_info": {
   "codemirror_mode": {
    "name": "ipython",
    "version": 2
   },
   "file_extension": ".py",
   "mimetype": "text/x-python",
   "name": "python",
   "nbconvert_exporter": "python",
   "pygments_lexer": "ipython2",
   "version": "2.7.6"
  }
 },
 "nbformat": 4,
 "nbformat_minor": 5
}
